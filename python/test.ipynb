{
 "cells": [
  {
   "cell_type": "code",
   "execution_count": 12,
   "metadata": {},
   "outputs": [
    {
     "data": {
      "text/plain": [
       "()"
      ]
     },
     "execution_count": 12,
     "metadata": {},
     "output_type": "execute_result"
    }
   ],
   "source": [
    "from astropy.io import fits\n",
    "from jarvis import make_gif, moind, fpath\n",
    "import numpy as np\n",
    "# makes an image\n",
    "n = fpath(r'datasets\\HST\\v02\\jup_16-138-18-48-16_0100_v02_stis_f25srf2_proj.fits')\n",
    "#moind(n, 'temp')\n",
    "# makes a gif\n",
    "#make_gif('datasets\\\\HST\\\\v01', dpi=300)\n",
    "n = fits.open(n)[1].data\n",
    "\n",
    "n.shape"
   ]
  }
 ],
 "metadata": {
  "kernelspec": {
   "display_name": "Python 3",
   "language": "python",
   "name": "python3"
  },
  "language_info": {
   "codemirror_mode": {
    "name": "ipython",
    "version": 3
   },
   "file_extension": ".py",
   "mimetype": "text/x-python",
   "name": "python",
   "nbconvert_exporter": "python",
   "pygments_lexer": "ipython3",
   "version": "3.12.3"
  }
 },
 "nbformat": 4,
 "nbformat_minor": 2
}
